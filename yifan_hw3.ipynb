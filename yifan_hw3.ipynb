{
 "cells": [
  {
   "cell_type": "code",
   "execution_count": 1,
   "metadata": {},
   "outputs": [],
   "source": [
    "#1"
   ]
  },
  {
   "cell_type": "code",
   "execution_count": null,
   "metadata": {},
   "outputs": [],
   "source": [
    "def func1(names, db):\n",
    "    idx = []\n",
    "    for i in names:\n",
    "        if i in db:\n",
    "            idx.append(db.index(i))\n",
    "    return idx"
   ]
  },
  {
   "cell_type": "code",
   "execution_count": 2,
   "metadata": {},
   "outputs": [],
   "source": [
    "import numpy as np\n",
    "\n",
    "def func2(names, db):\n",
    "    return np.isin(db,names)"
   ]
  },
  {
   "cell_type": "code",
   "execution_count": 11,
   "metadata": {},
   "outputs": [
    {
     "name": "stdout",
     "output_type": "stream",
     "text": [
      "72.3 ms ± 4.2 ms per loop (mean ± std. dev. of 7 runs, 10 loops each)\n",
      "26.7 ms ± 1.54 ms per loop (mean ± std. dev. of 7 runs, 10 loops each)\n"
     ]
    }
   ],
   "source": [
    "names = range(1000000)\n",
    "db = range(0,100000,100)\n",
    "\n",
    "npdb = np.array(db)\n",
    "npnames = np.array(names)\n",
    "\n",
    "%timeit func1(names, db)\n",
    "%timeit func2(npnames, npdb)\n"
   ]
  },
  {
   "cell_type": "code",
   "execution_count": 12,
   "metadata": {},
   "outputs": [],
   "source": [
    "## For each loop, np.isin is about 2.7 times quicker than naive method. \n",
    "## And based on the data, they need the same loops."
   ]
  },
  {
   "cell_type": "code",
   "execution_count": null,
   "metadata": {},
   "outputs": [],
   "source": [
    "#2"
   ]
  },
  {
   "cell_type": "code",
   "execution_count": 17,
   "metadata": {},
   "outputs": [],
   "source": [
    "def search_pairs(coordinates, cirle_r0):\n",
    "\n",
    "    points_in_r0 = np.linalg.norm(coordinates, axis=1) < cirle_r0\n",
    "    \n",
    "    #valid points\n",
    "    dists_of_points = np.linalg.norm(coordinates[ :, np.newaxis, :] - coordinates, axis=2)\n",
    "    dists_of_points = np.tril(dists_of_points, k = -1)\n",
    "    \n",
    "    #distances of valid points\n",
    "    mask_r0 = points_in_r0[: , np.newaxis] ^ points_in_r0\n",
    "    mask_r0 = np.tril(mask_r0, k = -1)   \n",
    "    dists = dists_of_points[mask_r0]\n",
    "    \n",
    "    #max distances\n",
    "    max_dists = np.sort(dists)[-3:]\n",
    "    \n",
    "    index = np.where(np.isin(dists_of_points, max_dists))\n",
    "    return np.transpose(index)"
   ]
  },
  {
   "cell_type": "code",
   "execution_count": 18,
   "metadata": {},
   "outputs": [
    {
     "name": "stdout",
     "output_type": "stream",
     "text": [
      "[[2 1]\n",
      " [3 0]\n",
      " [3 1]]\n"
     ]
    }
   ],
   "source": [
    "coordinates = np.array(\n",
    "[[0.968, 0.313],\n",
    " [0.692, 0.876],\n",
    " [0.895, 0.085],\n",
    " [0.039, 0.17 ],\n",
    " [0.878, 0.098]]\n",
    ")\n",
    "cirle_r0 = 0.9\n",
    "print(search_pairs(coordinates, cirle_r0))"
   ]
  }
 ],
 "metadata": {
  "kernelspec": {
   "display_name": "Python 3",
   "language": "python",
   "name": "python3"
  },
  "language_info": {
   "codemirror_mode": {
    "name": "ipython",
    "version": 3
   },
   "file_extension": ".py",
   "mimetype": "text/x-python",
   "name": "python",
   "nbconvert_exporter": "python",
   "pygments_lexer": "ipython3",
   "version": "3.7.6"
  }
 },
 "nbformat": 4,
 "nbformat_minor": 4
}
