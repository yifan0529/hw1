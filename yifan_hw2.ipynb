{
 "cells": [
  {
   "cell_type": "markdown",
   "metadata": {},
   "source": [
    "# Merge sorted stream"
   ]
  },
  {
   "cell_type": "code",
   "execution_count": 15,
   "metadata": {},
   "outputs": [],
   "source": [
    "def merge_sorted_stream(stream1, stream2):\n",
    "    stream=list(stream1)+list(stream2)\n",
    "    stream.sort()\n",
    "    for i in stream:\n",
    "        yield i"
   ]
  },
  {
   "cell_type": "code",
   "execution_count": 16,
   "metadata": {},
   "outputs": [
    {
     "name": "stdout",
     "output_type": "stream",
     "text": [
      "0\n",
      "1\n",
      "2\n",
      "3\n",
      "4\n",
      "5\n",
      "6\n",
      "7\n",
      "8\n",
      "9\n"
     ]
    }
   ],
   "source": [
    "stream1 = range(0, 10, 2)\n",
    "stream2 = range(1, 10, 2)\n",
    "for x in merge_sorted_stream(stream1, stream2):\n",
    "    print(x)"
   ]
  },
  {
   "cell_type": "code",
   "execution_count": 19,
   "metadata": {},
   "outputs": [],
   "source": [
    "def merge_sorted_stream_bonus(*args):\n",
    "    stream=list()\n",
    "    for i in args:\n",
    "        stream=stream+list(i)\n",
    "    stream.sort()\n",
    "    for i in stream:\n",
    "        yield i"
   ]
  },
  {
   "cell_type": "code",
   "execution_count": 57,
   "metadata": {
    "scrolled": true
   },
   "outputs": [
    {
     "name": "stdout",
     "output_type": "stream",
     "text": [
      "0\n",
      "1\n",
      "1\n",
      "2\n",
      "3\n",
      "3\n",
      "4\n",
      "5\n",
      "5\n",
      "6\n",
      "7\n",
      "7\n",
      "8\n",
      "9\n",
      "9\n",
      "11\n",
      "13\n",
      "15\n",
      "17\n",
      "19\n"
     ]
    }
   ],
   "source": [
    "stream1 = range(0, 10, 2)\n",
    "stream2 = range(1, 10, 2)\n",
    "stream3 = range(1, 20, 2)\n",
    "for x in merge_sorted_stream_bonus(stream1, stream2, stream3):\n",
    "    print(x)"
   ]
  },
  {
   "cell_type": "markdown",
   "metadata": {},
   "source": [
    "# Tree traversal"
   ]
  },
  {
   "cell_type": "code",
   "execution_count": 39,
   "metadata": {},
   "outputs": [],
   "source": [
    "class TreeNode:\n",
    "\n",
    "    def __init__(self,n):\n",
    "        self.item=str(n)\n",
    "        self.left=None\n",
    "        self.right=None\n",
    "\n",
    "    def in_order(self):\n",
    "        if self.left:\n",
    "            yield from self.left.in_order()\n",
    "        yield self.item\n",
    "        if self.right:\n",
    "            yield from self.right.in_order()\n",
    "\n",
    "    def pre_order(self):\n",
    "        yield self.item\n",
    "        if self.left:\n",
    "            yield from self.left.pre_order()\n",
    "        if self.right:\n",
    "            yield from self.right.pre_order()\n",
    "\n",
    "    def post_order(self):\n",
    "        if self.left:\n",
    "            yield from self.left.post_order()\n",
    "        if self.right:\n",
    "            yield from self.right.post_order()\n",
    "        yield self.item"
   ]
  },
  {
   "cell_type": "code",
   "execution_count": 40,
   "metadata": {},
   "outputs": [
    {
     "name": "stdout",
     "output_type": "stream",
     "text": [
      "4 -> 2 -> 5 -> 1 -> 3\n",
      "1 -> 2 -> 4 -> 5 -> 3\n",
      "4 -> 5 -> 2 -> 3 -> 1\n"
     ]
    }
   ],
   "source": [
    "root = TreeNode(1)\n",
    "root.left = TreeNode(2)\n",
    "root.right = TreeNode(3)\n",
    "root.left.left = TreeNode(4)\n",
    "root.left.right = TreeNode(5)\n",
    "\n",
    "print(' -> '.join(item for item in root.in_order()))\n",
    "print(' -> '.join(item for item in root.pre_order()))\n",
    "print(' -> '.join(item for item in root.post_order()))"
   ]
  },
  {
   "cell_type": "markdown",
   "metadata": {},
   "source": [
    "# Implement a timer"
   ]
  },
  {
   "cell_type": "code",
   "execution_count": 53,
   "metadata": {
    "scrolled": true
   },
   "outputs": [],
   "source": [
    "import time\n",
    "class timer:\n",
    "  \n",
    "    def __call__(self,func):\n",
    "        def inner(x):\n",
    "            start_time = time.time()\n",
    "            func(x)\n",
    "            end_time = time.time()\n",
    "            print(\"Total execution time: %1f seconds\" % (end_time - start_time))\n",
    "        return inner\n",
    "\n",
    "    def __enter__(self):\n",
    "        self.start_time = time.time()\n",
    "        return self\n",
    "    \n",
    "    def __exit__(self,type,val,trace):\n",
    "        self.end_time = time.time()\n",
    "        print(\"Total execution time: %1f seconds\" % (self.end_time - self.start_time))\n",
    "        return True"
   ]
  },
  {
   "cell_type": "code",
   "execution_count": 54,
   "metadata": {},
   "outputs": [
    {
     "name": "stdout",
     "output_type": "stream",
     "text": [
      "Total execution time: 3.000174 seconds\n"
     ]
    }
   ],
   "source": [
    "with timer() as timer:\n",
    "    time.sleep(3)        "
   ]
  },
  {
   "cell_type": "code",
   "execution_count": 55,
   "metadata": {},
   "outputs": [
    {
     "name": "stdout",
     "output_type": "stream",
     "text": [
      "Total execution time: 3.000328 seconds\n"
     ]
    }
   ],
   "source": [
    "@timer\n",
    "def sleep(secs):\n",
    "    time.sleep(secs)\n",
    "\n",
    "sleep(3)"
   ]
  }
 ],
 "metadata": {
  "kernelspec": {
   "display_name": "Python 3",
   "language": "python",
   "name": "python3"
  },
  "language_info": {
   "codemirror_mode": {
    "name": "ipython",
    "version": 3
   },
   "file_extension": ".py",
   "mimetype": "text/x-python",
   "name": "python",
   "nbconvert_exporter": "python",
   "pygments_lexer": "ipython3",
   "version": "3.7.6"
  }
 },
 "nbformat": 4,
 "nbformat_minor": 4
}
