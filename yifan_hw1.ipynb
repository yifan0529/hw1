{
 "cells": [
  {
   "cell_type": "markdown",
   "metadata": {},
   "source": [
    "# Homework 1"
   ]
  },
  {
   "cell_type": "markdown",
   "metadata": {},
   "source": [
    "# 1.2 Write a Jupyter Magic"
   ]
  },
  {
   "cell_type": "code",
   "execution_count": 65,
   "metadata": {},
   "outputs": [],
   "source": [
    "from IPython.core.magic import (register_line_cell_magic)\n",
    "@register_line_cell_magic\n",
    "def countwords(line,cell=None):\n",
    "    if cell is None:\n",
    "        return len(line.split())\n",
    "    else:\n",
    "        return len((line+cell).split())"
   ]
  },
  {
   "cell_type": "code",
   "execution_count": 66,
   "metadata": {},
   "outputs": [
    {
     "data": {
      "text/plain": [
       "5"
      ]
     },
     "execution_count": 66,
     "metadata": {},
     "output_type": "execute_result"
    }
   ],
   "source": [
    "%countwords this is a magic line"
   ]
  },
  {
   "cell_type": "code",
   "execution_count": 67,
   "metadata": {},
   "outputs": [
    {
     "data": {
      "text/plain": [
       "5"
      ]
     },
     "execution_count": 67,
     "metadata": {},
     "output_type": "execute_result"
    }
   ],
   "source": [
    "%%countwords \n",
    "this \n",
    "is a \n",
    "magic line"
   ]
  },
  {
   "cell_type": "markdown",
   "metadata": {},
   "source": [
    "# 1.3  Profile the speed of list comprehension vs. for loops"
   ]
  },
  {
   "cell_type": "code",
   "execution_count": 68,
   "metadata": {},
   "outputs": [
    {
     "name": "stdout",
     "output_type": "stream",
     "text": [
      "Wall time: 164 ms\n"
     ]
    }
   ],
   "source": [
    "#for loop\n",
    "list=[]\n",
    "%time for i in range(1000000):list.append(i+1)"
   ]
  },
  {
   "cell_type": "code",
   "execution_count": 69,
   "metadata": {},
   "outputs": [
    {
     "name": "stdout",
     "output_type": "stream",
     "text": [
      "Wall time: 51.4 ms\n"
     ]
    }
   ],
   "source": [
    "#list comprehension\n",
    "list2=[]\n",
    "%time list2=[i for i in list]"
   ]
  },
  {
   "cell_type": "markdown",
   "metadata": {},
   "source": [
    "# 1.4 Prime numbers"
   ]
  },
  {
   "cell_type": "code",
   "execution_count": 70,
   "metadata": {},
   "outputs": [
    {
     "data": {
      "text/plain": [
       "[2, 3, 5, 7, 11, 13, 17, 19, 23, 29, 31, 37, 41, 43, 47, 53, 59, 61, 67]"
      ]
     },
     "execution_count": 70,
     "metadata": {},
     "output_type": "execute_result"
    }
   ],
   "source": [
    "list3=[]\n",
    "for i in range(70):\n",
    "    list3.append(i+1)\n",
    "\n",
    "prime_list=[i for i in list3 if (i>=2 and all([((i%a)!=0) for a in range(2,i)]))]\n",
    "prime_list"
   ]
  },
  {
   "cell_type": "markdown",
   "metadata": {},
   "source": [
    "# 1.5 Extend the Vector class"
   ]
  },
  {
   "cell_type": "code",
   "execution_count": 71,
   "metadata": {},
   "outputs": [],
   "source": [
    "import numpy as np\n",
    "import math\n",
    " \n",
    "class Vector:\n",
    " #construction\n",
    "    def __init__(self, *number):\n",
    "        self.data=np.array([*number])\n",
    "        self.dim=len(self.data)\n",
    " #get item\n",
    "    def __getitem__(self,key):\n",
    "        if type(key) is int:\n",
    "            return self.data[key]\n",
    " #slicing\n",
    "        else:\n",
    "            return Vector(self.data[key])\n",
    "        ##???Here is an error\n",
    "        ##It returns to the following element, rather than the correct answer.\n",
    " #length\n",
    "    def __len__(self):\n",
    "        return self.dim\n",
    " #power\n",
    "    def __repr__(self):\n",
    "        return f\"Vector({self.data})\"\n",
    "    def __pow__(self,exponent):\n",
    "        return Vector(self.data ** exponent)\n",
    "    \n",
    "v=Vector(1,2,3,4,5)\n",
    "\n"
   ]
  },
  {
   "cell_type": "code",
   "execution_count": 72,
   "metadata": {},
   "outputs": [
    {
     "data": {
      "text/plain": [
       "3"
      ]
     },
     "execution_count": 72,
     "metadata": {},
     "output_type": "execute_result"
    }
   ],
   "source": [
    "v[2]"
   ]
  },
  {
   "cell_type": "code",
   "execution_count": 73,
   "metadata": {},
   "outputs": [
    {
     "data": {
      "text/plain": [
       "Vector([[3]])"
      ]
     },
     "execution_count": 73,
     "metadata": {},
     "output_type": "execute_result"
    }
   ],
   "source": [
    "v[2:3]"
   ]
  },
  {
   "cell_type": "code",
   "execution_count": 74,
   "metadata": {},
   "outputs": [
    {
     "data": {
      "text/plain": [
       "5"
      ]
     },
     "execution_count": 74,
     "metadata": {},
     "output_type": "execute_result"
    }
   ],
   "source": [
    "len(v)"
   ]
  },
  {
   "cell_type": "code",
   "execution_count": 75,
   "metadata": {},
   "outputs": [
    {
     "data": {
      "text/plain": [
       "Vector([[  1   8  27  64 125]])"
      ]
     },
     "execution_count": 75,
     "metadata": {},
     "output_type": "execute_result"
    }
   ],
   "source": [
    "v**3"
   ]
  },
  {
   "cell_type": "markdown",
   "metadata": {},
   "source": [
    "# 1.6 Case-insensitive dictionary"
   ]
  },
  {
   "cell_type": "code",
   "execution_count": 76,
   "metadata": {},
   "outputs": [],
   "source": [
    "from collections import UserDict\n",
    "\n",
    "class CaseInsensitiveDict(UserDict):\n",
    "    def __init__(self):\n",
    "        self.dict=UserDict()\n",
    "        \n",
    "    def __str__(self):\n",
    "        return self.dict.__str__()\n",
    "    \n",
    "\n",
    "        \n",
    "    def __setitem__(self,key,value):\n",
    "        if str(key).upper() in self.dict:\n",
    "            self.dict[str(key).upper()]=value\n",
    "        if str(key).lower() in self.dict:\n",
    "            self.dict[str(key).lower()]=value\n",
    "        else:\n",
    "            self.dict[str(key)]=value\n",
    "    \n",
    "    \n",
    "    def __getitem__(self,key):\n",
    "         if str(key).upper() in self.dict:\n",
    "            return self.dict[str(key).upper()]\n",
    "         if str(key).lower() in self.dict:\n",
    "            return self.dict[str(key).lower()]\n",
    "         else:\n",
    "            print(\"Not found\")"
   ]
  },
  {
   "cell_type": "code",
   "execution_count": 77,
   "metadata": {},
   "outputs": [],
   "source": [
    "d=CaseInsensitiveDict()\n",
    "d['A']=3\n"
   ]
  },
  {
   "cell_type": "code",
   "execution_count": 78,
   "metadata": {},
   "outputs": [
    {
     "name": "stdout",
     "output_type": "stream",
     "text": [
      "3\n",
      "4\n",
      "{'A': 4, 'a': 4}\n"
     ]
    }
   ],
   "source": [
    "print(d['a'])\n",
    "d['a']=4\n",
    "print(d['a'])\n",
    "print(d)"
   ]
  },
  {
   "cell_type": "code",
   "execution_count": null,
   "metadata": {},
   "outputs": [],
   "source": []
  }
 ],
 "metadata": {
  "kernelspec": {
   "display_name": "Python 3",
   "language": "python",
   "name": "python3"
  },
  "language_info": {
   "codemirror_mode": {
    "name": "ipython",
    "version": 3
   },
   "file_extension": ".py",
   "mimetype": "text/x-python",
   "name": "python",
   "nbconvert_exporter": "python",
   "pygments_lexer": "ipython3",
   "version": "3.7.6"
  }
 },
 "nbformat": 4,
 "nbformat_minor": 4
}
