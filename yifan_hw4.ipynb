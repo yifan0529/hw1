{
 "cells": [
  {
   "cell_type": "markdown",
   "metadata": {},
   "source": [
    "# Question 1"
   ]
  },
  {
   "cell_type": "code",
   "execution_count": 172,
   "metadata": {},
   "outputs": [
    {
     "data": {
      "text/html": [
       "<style>.container { width:100% !important; }</style>"
      ],
      "text/plain": [
       "<IPython.core.display.HTML object>"
      ]
     },
     "metadata": {},
     "output_type": "display_data"
    }
   ],
   "source": [
    "from IPython.core.display import display, HTML\n",
    "display(HTML(\"<style>.container { width:100% !important; }</style>\"))\n",
    "import pandas as pd\n",
    "import numpy as np"
   ]
  },
  {
   "cell_type": "code",
   "execution_count": 173,
   "metadata": {},
   "outputs": [
    {
     "data": {
      "text/html": [
       "<div>\n",
       "<style scoped>\n",
       "    .dataframe tbody tr th:only-of-type {\n",
       "        vertical-align: middle;\n",
       "    }\n",
       "\n",
       "    .dataframe tbody tr th {\n",
       "        vertical-align: top;\n",
       "    }\n",
       "\n",
       "    .dataframe thead th {\n",
       "        text-align: right;\n",
       "    }\n",
       "</style>\n",
       "<table border=\"1\" class=\"dataframe\">\n",
       "  <thead>\n",
       "    <tr style=\"text-align: right;\">\n",
       "      <th></th>\n",
       "      <th>sic</th>\n",
       "      <th>datacqtr</th>\n",
       "      <th>cusip</th>\n",
       "      <th>cshoq</th>\n",
       "      <th>saleq</th>\n",
       "      <th>prccq</th>\n",
       "      <th>mktcap</th>\n",
       "    </tr>\n",
       "  </thead>\n",
       "  <tbody>\n",
       "    <tr>\n",
       "      <th>0</th>\n",
       "      <td>3089.0</td>\n",
       "      <td>1966Q1</td>\n",
       "      <td>000032102</td>\n",
       "      <td>0.219</td>\n",
       "      <td>NaN</td>\n",
       "      <td>NaN</td>\n",
       "      <td>NaN</td>\n",
       "    </tr>\n",
       "    <tr>\n",
       "      <th>1</th>\n",
       "      <td>3089.0</td>\n",
       "      <td>1966Q2</td>\n",
       "      <td>000032102</td>\n",
       "      <td>0.219</td>\n",
       "      <td>NaN</td>\n",
       "      <td>NaN</td>\n",
       "      <td>NaN</td>\n",
       "    </tr>\n",
       "    <tr>\n",
       "      <th>2</th>\n",
       "      <td>3089.0</td>\n",
       "      <td>1966Q3</td>\n",
       "      <td>000032102</td>\n",
       "      <td>0.219</td>\n",
       "      <td>NaN</td>\n",
       "      <td>NaN</td>\n",
       "      <td>NaN</td>\n",
       "    </tr>\n",
       "    <tr>\n",
       "      <th>3</th>\n",
       "      <td>3089.0</td>\n",
       "      <td>1966Q4</td>\n",
       "      <td>000032102</td>\n",
       "      <td>0.219</td>\n",
       "      <td>4.032</td>\n",
       "      <td>NaN</td>\n",
       "      <td>NaN</td>\n",
       "    </tr>\n",
       "    <tr>\n",
       "      <th>4</th>\n",
       "      <td>3089.0</td>\n",
       "      <td>1967Q1</td>\n",
       "      <td>000032102</td>\n",
       "      <td>0.277</td>\n",
       "      <td>NaN</td>\n",
       "      <td>NaN</td>\n",
       "      <td>NaN</td>\n",
       "    </tr>\n",
       "  </tbody>\n",
       "</table>\n",
       "</div>"
      ],
      "text/plain": [
       "      sic datacqtr      cusip  cshoq  saleq  prccq  mktcap\n",
       "0  3089.0   1966Q1  000032102  0.219    NaN    NaN     NaN\n",
       "1  3089.0   1966Q2  000032102  0.219    NaN    NaN     NaN\n",
       "2  3089.0   1966Q3  000032102  0.219    NaN    NaN     NaN\n",
       "3  3089.0   1966Q4  000032102  0.219  4.032    NaN     NaN\n",
       "4  3089.0   1967Q1  000032102  0.277    NaN    NaN     NaN"
      ]
     },
     "execution_count": 173,
     "metadata": {},
     "output_type": "execute_result"
    }
   ],
   "source": [
    "# 1\n",
    "data = pd.read_csv(\"compustat.zip\")[[\"sic\",\"datacqtr\",\"cusip\",\"cshoq\",\"saleq\",\"prccq\"]]\n",
    "data[\"mktcap\"] = data[\"cshoq\"] * data[\"prccq\"]\n",
    "data.head(5)"
   ]
  },
  {
   "cell_type": "code",
   "execution_count": 174,
   "metadata": {},
   "outputs": [],
   "source": [
    "# 2\n",
    "saleq_mean = data[\"saleq\"].dropna().mean()\n",
    "mktcap_mean = data[\"mktcap\"].dropna().mean()\n",
    "\n",
    "saleq_sd = data[\"saleq\"].dropna().std()\n",
    "mktcap_sd = data[\"mktcap\"].dropna().std()\n",
    "\n",
    "saleq_miss = data[\"saleq\"].isna().sum()\n",
    "mktcap_miss = data[\"mktcap\"].isna().sum()\n",
    "\n",
    "saleq_ratio = saleq_miss / data.shape[0]\n",
    "mktcap_ratio = mktcap_miss / data.shape[0]"
   ]
  },
  {
   "cell_type": "code",
   "execution_count": 175,
   "metadata": {},
   "outputs": [
    {
     "data": {
      "text/html": [
       "<div>\n",
       "<style scoped>\n",
       "    .dataframe tbody tr th:only-of-type {\n",
       "        vertical-align: middle;\n",
       "    }\n",
       "\n",
       "    .dataframe tbody tr th {\n",
       "        vertical-align: top;\n",
       "    }\n",
       "\n",
       "    .dataframe thead th {\n",
       "        text-align: right;\n",
       "    }\n",
       "</style>\n",
       "<table border=\"1\" class=\"dataframe\">\n",
       "  <thead>\n",
       "    <tr style=\"text-align: right;\">\n",
       "      <th></th>\n",
       "      <th>saleq</th>\n",
       "      <th>mktcap</th>\n",
       "    </tr>\n",
       "  </thead>\n",
       "  <tbody>\n",
       "    <tr>\n",
       "      <th>mean</th>\n",
       "      <td>445.150664</td>\n",
       "      <td>2057.473104</td>\n",
       "    </tr>\n",
       "    <tr>\n",
       "      <th>sd</th>\n",
       "      <td>2679.706576</td>\n",
       "      <td>13202.197457</td>\n",
       "    </tr>\n",
       "    <tr>\n",
       "      <th>count(missing)</th>\n",
       "      <td>269498.000000</td>\n",
       "      <td>468276.000000</td>\n",
       "    </tr>\n",
       "    <tr>\n",
       "      <th>missing ratio</th>\n",
       "      <td>0.148787</td>\n",
       "      <td>0.258530</td>\n",
       "    </tr>\n",
       "  </tbody>\n",
       "</table>\n",
       "</div>"
      ],
      "text/plain": [
       "                        saleq         mktcap\n",
       "mean               445.150664    2057.473104\n",
       "sd                2679.706576   13202.197457\n",
       "count(missing)  269498.000000  468276.000000\n",
       "missing ratio        0.148787       0.258530"
      ]
     },
     "execution_count": 175,
     "metadata": {},
     "output_type": "execute_result"
    }
   ],
   "source": [
    "result = [[saleq_mean, mktcap_mean],\n",
    "          [saleq_sd, mktcap_sd],\n",
    "          [saleq_miss, mktcap_miss],\n",
    "          [saleq_ratio, mktcap_ratio]]\n",
    "result = pd.DataFrame(result,\n",
    "                      index = [\"mean\", \"sd\", \"count(missing)\", \"missing ratio\"],\n",
    "                      columns = [\"saleq\", \"mktcap\"])\n",
    "result"
   ]
  },
  {
   "cell_type": "code",
   "execution_count": 176,
   "metadata": {},
   "outputs": [],
   "source": [
    "# 3\n",
    "# we can plot boxplots to detect outliers\n",
    "import matplotlib.pyplot as plt\n",
    "import seaborn as sns"
   ]
  },
  {
   "cell_type": "code",
   "execution_count": 177,
   "metadata": {},
   "outputs": [
    {
     "data": {
      "text/plain": [
       "<matplotlib.axes._subplots.AxesSubplot at 0x208a221cb08>"
      ]
     },
     "execution_count": 177,
     "metadata": {},
     "output_type": "execute_result"
    },
    {
     "data": {
      "image/png": "[encoded data removed]",
      "text/plain": [
       "<Figure size 1440x144 with 1 Axes>"
      ]
     },
     "metadata": {
      "needs_background": "light"
     },
     "output_type": "display_data"
    }
   ],
   "source": [
    "plt.figure(figsize=(20,2))\n",
    "sns.boxplot(data['saleq'])"
   ]
  },
  {
   "cell_type": "code",
   "execution_count": 178,
   "metadata": {},
   "outputs": [
    {
     "data": {
      "text/plain": [
       "<matplotlib.axes._subplots.AxesSubplot at 0x20894a73e08>"
      ]
     },
     "execution_count": 178,
     "metadata": {},
     "output_type": "execute_result"
    },
    {
     "data": {
      "image/png": "[encoded data removed]",
      "text/plain": [
       "<Figure size 1440x144 with 1 Axes>"
      ]
     },
     "metadata": {
      "needs_background": "light"
     },
     "output_type": "display_data"
    }
   ],
   "source": [
    "plt.figure(figsize=(20,2))\n",
    "sns.boxplot(data['mktcap'])"
   ]
  },
  {
   "cell_type": "code",
   "execution_count": 179,
   "metadata": {},
   "outputs": [],
   "source": [
    "# We could see there are some outliers for saleq and mktcap.\n",
    "# To analyze the data properly, we may need to seperate the data i\n",
    "# into different groups based on other indicators, such as sic and \n",
    "# prccq."
   ]
  },
  {
   "cell_type": "markdown",
   "metadata": {},
   "source": [
    "# Question 2"
   ]
  },
  {
   "cell_type": "code",
   "execution_count": 199,
   "metadata": {},
   "outputs": [
    {
     "data": {
      "text/html": [
       "<div>\n",
       "<style scoped>\n",
       "    .dataframe tbody tr th:only-of-type {\n",
       "        vertical-align: middle;\n",
       "    }\n",
       "\n",
       "    .dataframe tbody tr th {\n",
       "        vertical-align: top;\n",
       "    }\n",
       "\n",
       "    .dataframe thead th {\n",
       "        text-align: right;\n",
       "    }\n",
       "</style>\n",
       "<table border=\"1\" class=\"dataframe\">\n",
       "  <thead>\n",
       "    <tr style=\"text-align: right;\">\n",
       "      <th></th>\n",
       "      <th>sic</th>\n",
       "      <th>datacqtr</th>\n",
       "      <th>mktcap</th>\n",
       "      <th>sumcap</th>\n",
       "      <th>HHI</th>\n",
       "      <th>HHI_index</th>\n",
       "    </tr>\n",
       "  </thead>\n",
       "  <tbody>\n",
       "    <tr>\n",
       "      <th>0</th>\n",
       "      <td>0.0</td>\n",
       "      <td>1967Q4</td>\n",
       "      <td>65.205000</td>\n",
       "      <td>2588.303642</td>\n",
       "      <td>6.346457</td>\n",
       "      <td>1797.328226</td>\n",
       "    </tr>\n",
       "    <tr>\n",
       "      <th>1</th>\n",
       "      <td>0.0</td>\n",
       "      <td>1967Q4</td>\n",
       "      <td>995.809856</td>\n",
       "      <td>2588.303642</td>\n",
       "      <td>1480.206797</td>\n",
       "      <td>1797.328226</td>\n",
       "    </tr>\n",
       "    <tr>\n",
       "      <th>2</th>\n",
       "      <td>0.0</td>\n",
       "      <td>1967Q4</td>\n",
       "      <td>77.490500</td>\n",
       "      <td>2588.303642</td>\n",
       "      <td>8.963270</td>\n",
       "      <td>1797.328226</td>\n",
       "    </tr>\n",
       "    <tr>\n",
       "      <th>3</th>\n",
       "      <td>0.0</td>\n",
       "      <td>1967Q4</td>\n",
       "      <td>226.074250</td>\n",
       "      <td>2588.303642</td>\n",
       "      <td>76.290727</td>\n",
       "      <td>1797.328226</td>\n",
       "    </tr>\n",
       "    <tr>\n",
       "      <th>4</th>\n",
       "      <td>0.0</td>\n",
       "      <td>1967Q4</td>\n",
       "      <td>26.753750</td>\n",
       "      <td>2588.303642</td>\n",
       "      <td>1.068412</td>\n",
       "      <td>1797.328226</td>\n",
       "    </tr>\n",
       "  </tbody>\n",
       "</table>\n",
       "</div>"
      ],
      "text/plain": [
       "   sic datacqtr      mktcap       sumcap          HHI    HHI_index\n",
       "0  0.0   1967Q4   65.205000  2588.303642     6.346457  1797.328226\n",
       "1  0.0   1967Q4  995.809856  2588.303642  1480.206797  1797.328226\n",
       "2  0.0   1967Q4   77.490500  2588.303642     8.963270  1797.328226\n",
       "3  0.0   1967Q4  226.074250  2588.303642    76.290727  1797.328226\n",
       "4  0.0   1967Q4   26.753750  2588.303642     1.068412  1797.328226"
      ]
     },
     "execution_count": 199,
     "metadata": {},
     "output_type": "execute_result"
    }
   ],
   "source": [
    "data.HHI = pd.DataFrame(data,columns=[\"sic\",\"datacqtr\",\"mktcap\"]).dropna()\n",
    "data.HHI = data.HHI.groupby(['sic','datacqtr'],as_index=False).sum()\n",
    "# 2 digits sic code\n",
    "data.HHI[\"sic\"] = (data.HHI[\"sic\"]%100)\n",
    "\n",
    "# sum of mktcap\n",
    "sumcap = data.HHI.groupby(['datacqtr','sic'])['mktcap'].sum().reset_index()\n",
    "sumcap.rename(columns={'mktcap':'sumcap'},inplace=True)\n",
    "\n",
    "# merge data.HHI & sumcap\n",
    "data.HHI = pd.merge(data.HHI,sumcap,on=[\"datacqtr\",\"sic\"])\n",
    "\n",
    "# HHI\n",
    "data.HHI[\"HHI\"] = pow(((data.HHI[\"mktcap\"]/data.HHI[\"sumcap\"])*100),2)\n",
    "industryHHI = data.HHI.groupby([\"datacqtr\",\"sic\"])[\"HHI\"].sum().reset_index()\n",
    "industryHHI.rename(columns={\"HHI\":\"HHI_index\"},inplace= True)\n",
    "\n",
    "# merge data.HHI & industryHHI\n",
    "data.HHI = pd.merge(data.HHI,industryHHI,on=[\"datacqtr\",\"sic\"])\n",
    "data.HHI.head()"
   ]
  },
  {
   "cell_type": "code",
   "execution_count": 206,
   "metadata": {},
   "outputs": [
    {
     "data": {
      "text/plain": [
       "[98.0, 64.0, 77.0, 97.0]"
      ]
     },
     "execution_count": 206,
     "metadata": {},
     "output_type": "execute_result"
    }
   ],
   "source": [
    "\n",
    "HHI_mean = data.HHI.groupby(['sic'])['HHI_index'].mean().reset_index()\n",
    "HHI_mean = HHI_mean[HHI_mean['HHI_index'] < 10000]\n",
    "HHI_mean.sort_values(by='HHI_index', ascending=False, inplace=True)\n",
    "HHI_top4_sic = [HHI_mean.iloc[i, 0] for i in range(4)]\n",
    "HHI_top4_sic"
   ]
  },
  {
   "cell_type": "code",
   "execution_count": 201,
   "metadata": {},
   "outputs": [
    {
     "data": {
      "text/html": [
       "<div>\n",
       "<style scoped>\n",
       "    .dataframe tbody tr th:only-of-type {\n",
       "        vertical-align: middle;\n",
       "    }\n",
       "\n",
       "    .dataframe tbody tr th {\n",
       "        vertical-align: top;\n",
       "    }\n",
       "\n",
       "    .dataframe thead th {\n",
       "        text-align: right;\n",
       "    }\n",
       "</style>\n",
       "<table border=\"1\" class=\"dataframe\">\n",
       "  <thead>\n",
       "    <tr style=\"text-align: right;\">\n",
       "      <th></th>\n",
       "      <th>datacqtr</th>\n",
       "      <th>sic</th>\n",
       "      <th>HHI_index</th>\n",
       "    </tr>\n",
       "  </thead>\n",
       "  <tbody>\n",
       "    <tr>\n",
       "      <th>0</th>\n",
       "      <td>1968-10-01</td>\n",
       "      <td>64.0</td>\n",
       "      <td>10000.0</td>\n",
       "    </tr>\n",
       "    <tr>\n",
       "      <th>1</th>\n",
       "      <td>1969-01-01</td>\n",
       "      <td>64.0</td>\n",
       "      <td>10000.0</td>\n",
       "    </tr>\n",
       "    <tr>\n",
       "      <th>2</th>\n",
       "      <td>1969-04-01</td>\n",
       "      <td>64.0</td>\n",
       "      <td>10000.0</td>\n",
       "    </tr>\n",
       "    <tr>\n",
       "      <th>3</th>\n",
       "      <td>1969-07-01</td>\n",
       "      <td>64.0</td>\n",
       "      <td>10000.0</td>\n",
       "    </tr>\n",
       "    <tr>\n",
       "      <th>4</th>\n",
       "      <td>1969-10-01</td>\n",
       "      <td>64.0</td>\n",
       "      <td>10000.0</td>\n",
       "    </tr>\n",
       "  </tbody>\n",
       "</table>\n",
       "</div>"
      ],
      "text/plain": [
       "    datacqtr   sic  HHI_index\n",
       "0 1968-10-01  64.0    10000.0\n",
       "1 1969-01-01  64.0    10000.0\n",
       "2 1969-04-01  64.0    10000.0\n",
       "3 1969-07-01  64.0    10000.0\n",
       "4 1969-10-01  64.0    10000.0"
      ]
     },
     "execution_count": 201,
     "metadata": {},
     "output_type": "execute_result"
    }
   ],
   "source": [
    "HHI_top4 = pd.DataFrame(data.HHI, columns=['datacqtr', 'sic', 'HHI_index'])\n",
    "HHI_top4 = HHI_top4[HHI_top4['sic'].isin(HHI_top4_sic)]\n",
    "HHI_top4.drop_duplicates(inplace=True)\n",
    "\n",
    "HHI_top4.reset_index(drop=True, inplace=True)\n",
    "HHI_top4['datacqtr'] = pd.to_datetime(HHI_top4['datacqtr'].str[:4] + HHI_top4['datacqtr'].str[4:6])\n",
    "HHI_top4.head()\n"
   ]
  },
  {
   "cell_type": "code",
   "execution_count": 208,
   "metadata": {},
   "outputs": [],
   "source": [
    "time_data = HHI_top4.pivot(index='datacqtr', columns='sic', values='HHI_index')\n",
    "time_data.dropna(inplace=True)\n",
    "time_data.head()\n"
   ]
  },
  {
   "cell_type": "code",
   "execution_count": 218,
   "metadata": {},
   "outputs": [
    {
     "data": {
      "text/plain": [
       "[<matplotlib.lines.Line2D at 0x208a21788c8>]"
      ]
     },
     "execution_count": 218,
     "metadata": {},
     "output_type": "execute_result"
    },
    {
     "data": {
      "image/png": "[encoded data removed]",
      "text/plain": [
       "<Figure size 1440x720 with 4 Axes>"
      ]
     },
     "metadata": {
      "needs_background": "light"
     },
     "output_type": "display_data"
    }
   ],
   "source": [
    "plt.rcParams[\"figure.figsize\"] = (20,10)\n",
    "fig = plt.figure()\n",
    "fig.suptitle(\"top 4 industry with the highest average HHI index\")\n",
    "ax1 = fig.add_subplot(2, 2, 1)\n",
    "ax1.set_title(\"sic: \"+str(time_data.columns[0]))\n",
    "ax2 = fig.add_subplot(2, 2, 2)\n",
    "ax2.set_title(\"sic: \"+str(time_data.columns[1]))\n",
    "ax3 = fig.add_subplot(2, 2, 3)\n",
    "ax3.set_title(\"sic: \"+str(time_data.columns[2]))\n",
    "ax4 = fig.add_subplot(2, 2, 4)\n",
    "ax4.set_title(\"sic: \"+str(time_data.columns[3]))\n",
    "\n",
    "ax1.plot(time_data.index, time_data.iloc[:,0])\n",
    "ax2.plot(time_data.index, time_data.iloc[:,1])\n",
    "ax3.plot(time_data.index, time_data.iloc[:,2])\n",
    "ax4.plot(time_data.index, time_data.iloc[:,3])"
   ]
  },
  {
   "cell_type": "code",
   "execution_count": null,
   "metadata": {},
   "outputs": [],
   "source": []
  },
  {
   "cell_type": "code",
   "execution_count": null,
   "metadata": {},
   "outputs": [],
   "source": []
  },
  {
   "cell_type": "code",
   "execution_count": null,
   "metadata": {},
   "outputs": [],
   "source": []
  }
 ],
 "metadata": {
  "kernelspec": {
   "display_name": "Python 3",
   "language": "python",
   "name": "python3"
  },
  "language_info": {
   "codemirror_mode": {
    "name": "ipython",
    "version": 3
   },
   "file_extension": ".py",
   "mimetype": "text/x-python",
   "name": "python",
   "nbconvert_exporter": "python",
   "pygments_lexer": "ipython3",
   "version": "3.7.6"
  }
 },
 "nbformat": 4,
 "nbformat_minor": 4
}
